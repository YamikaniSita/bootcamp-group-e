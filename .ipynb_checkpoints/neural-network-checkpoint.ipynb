{
 "cells": [
  {
   "attachments": {
    "index.jpg": {
     "image/jpeg": "[encoded data removed]"
    }
   },
   "cell_type": "markdown",
   "id": "64a6ad1a",
   "metadata": {},
   "source": [
    "### Student Perfomance Prediction based on student social factors\n",
    "> We used a dataset on student perfomance by social factors faced in life.\n",
    "> We cleaned the data first and added a column on pass/fail status of a student.\n",
    "\n",
    "## Problem Statement\n",
    "> To find out find what is the impact of soclal factors such as romantic relationships, parents education, absence, travel time etc, on students performance in school.\n",
    "\n",
    "## Algorithms used to build models\n",
    "> Neural network, for classification (if a student will pass/fail) score was 70%;\n",
    "> Linear Regression, to find feature coefficients ie the impact of each social factor on grade;\n",
    "> Support vector machines for classification-score was 73%\n",
    "\n",
    "## Data source:\n",
    "> https://kaggle.com data from survey on students from two schools and their perfomance in mathematics\n",
    "\n",
    "![index.jpg](attachment:index.jpg)"
   ]
  },
  {
   "cell_type": "code",
   "execution_count": 1,
   "id": "649037a1",
   "metadata": {},
   "outputs": [],
   "source": [
    "import pandas as pd\n",
    "import seaborn as sns\n",
    "data_frame = pd.read_csv('student-mat.csv')\n",
    "data_frame.drop(['G1', 'G2'], axis=1, inplace=True)"
   ]
  },
  {
   "cell_type": "code",
   "execution_count": 2,
   "id": "3138f45c",
   "metadata": {},
   "outputs": [
    {
     "name": "stderr",
     "output_type": "stream",
     "text": [
      "C:\\Users\\Yamikani\\anaconda3\\lib\\site-packages\\seaborn\\_decorators.py:36: FutureWarning: Pass the following variable as a keyword arg: x. From version 0.12, the only valid positional argument will be `data`, and passing other arguments without an explicit keyword will result in an error or misinterpretation.\n",
      "  warnings.warn(\n"
     ]
    },
    {
     "data": {
      "text/plain": [
       "<AxesSubplot:xlabel='pass_fail', ylabel='count'>"
      ]
     },
     "execution_count": 2,
     "metadata": {},
     "output_type": "execute_result"
    },
    {
     "data": {
      "image/png": "[encoded data removed]",
      "text/plain": [
       "<Figure size 432x288 with 1 Axes>"
      ]
     },
     "metadata": {
      "needs_background": "light"
     },
     "output_type": "display_data"
    }
   ],
   "source": [
    "data_frame['pass_fail'] = ((data_frame['G3'])) >=  10\n",
    "data_frame['pass_fail'] = data_frame['pass_fail'].astype(int)\n",
    "data_frame.drop('G3', axis=1, inplace=True)\n",
    "sns.countplot(data_frame['pass_fail'])"
   ]
  },
  {
   "cell_type": "code",
   "execution_count": 3,
   "id": "8136ab1b",
   "metadata": {},
   "outputs": [],
   "source": [
    "data_frame.drop(['address', 'reason'], axis=1, inplace=True)"
   ]
  },
  {
   "cell_type": "code",
   "execution_count": 4,
   "id": "060f985d",
   "metadata": {},
   "outputs": [],
   "source": [
    "data_frame\n",
    "#X = data_frame.drop('pass_fail')\n",
    "#y = data_frame.pass_fail\n",
    "#data_frame.drop(['school', 'Mjob', 'Fjob', 'guardian'], axis=1, inplace=True)\n"
   ]
  },
  {
   "cell_type": "code",
   "execution_count": 5,
   "id": "6ff6dff6",
   "metadata": {},
   "outputs": [],
   "source": [
    "from sklearn.preprocessing import LabelEncoder\n",
    "#creating the object\n",
    "lb = LabelEncoder()\n",
    "for i in data_frame:\n",
    "    data_frame[i] = lb.fit_transform(data_frame[i])\n",
    "data_frame.to_csv('final_df.csv')"
   ]
  },
  {
   "cell_type": "code",
   "execution_count": 103,
   "id": "030521a5",
   "metadata": {},
   "outputs": [],
   "source": [
    "from sklearn.model_selection import train_test_split\n",
    "\n",
    "xtrain, xtest, ytrain, ytest = train_test_split(X, y, test_size=0.3, random_state=40)"
   ]
  },
  {
   "cell_type": "code",
   "execution_count": 104,
   "id": "85dd3d3d",
   "metadata": {},
   "outputs": [
    {
     "name": "stderr",
     "output_type": "stream",
     "text": [
      "C:\\Users\\Yamikani\\anaconda3\\lib\\site-packages\\sklearn\\neural_network\\_multilayer_perceptron.py:500: ConvergenceWarning: lbfgs failed to converge (status=1):\n",
      "STOP: TOTAL NO. of ITERATIONS REACHED LIMIT.\n",
      "\n",
      "Increase the number of iterations (max_iter) or scale the data as shown in:\n",
      "    https://scikit-learn.org/stable/modules/preprocessing.html\n",
      "  self.n_iter_ = _check_optimize_result(\"lbfgs\", opt_res, self.max_iter)\n"
     ]
    },
    {
     "data": {
      "text/plain": [
       "MLPClassifier(alpha=1e-05, hidden_layer_sizes=(5, 2), random_state=1,\n",
       "              solver='lbfgs')"
      ]
     },
     "execution_count": 104,
     "metadata": {},
     "output_type": "execute_result"
    }
   ],
   "source": [
    "from sklearn.neural_network import MLPClassifier\n",
    "neural_network = MLPClassifier(solver='lbfgs', alpha=1e-5,hidden_layer_sizes=(5, 2), random_state=1)\n",
    "neural_network.fit(xtrain,ytrain)"
   ]
  },
  {
   "cell_type": "code",
   "execution_count": 107,
   "id": "d7a72491",
   "metadata": {},
   "outputs": [
    {
     "data": {
      "text/plain": [
       "70.58823529411765"
      ]
     },
     "execution_count": 107,
     "metadata": {},
     "output_type": "execute_result"
    }
   ],
   "source": [
    "neural_network.score(xtest, ytest)*100"
   ]
  },
  {
   "cell_type": "code",
   "execution_count": 106,
   "id": "58682bcf",
   "metadata": {},
   "outputs": [],
   "source": [
    "data_frame.to_csv('final_df.csv')"
   ]
  }
 ],
 "metadata": {
  "kernelspec": {
   "display_name": "Python 3",
   "language": "python",
   "name": "python3"
  },
  "language_info": {
   "codemirror_mode": {
    "name": "ipython",
    "version": 3
   },
   "file_extension": ".py",
   "mimetype": "text/x-python",
   "name": "python",
   "nbconvert_exporter": "python",
   "pygments_lexer": "ipython3",
   "version": "3.8.8"
  }
 },
 "nbformat": 4,
 "nbformat_minor": 5
}
