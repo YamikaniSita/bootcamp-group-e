{
 "cells": [
  {
   "cell_type": "markdown",
   "id": "985f81d3",
   "metadata": {},
   "source": [
    "# Predicting impact of social factors on student performance\n",
    "> We used linear regression to create a multiple linear regression model and then found coefficients of each factor\n",
    "> We can use this to help both parents and teachers to know what impacts their wards perfomance"
   ]
  },
  {
   "cell_type": "code",
   "execution_count": 6,
   "id": "af582c1f",
   "metadata": {},
   "outputs": [],
   "source": [
    "import pandas as pd\n",
    "data_frame = pd.read_csv('final_df.csv')"
   ]
  },
  {
   "cell_type": "code",
   "execution_count": 7,
   "id": "0009dfbe",
   "metadata": {},
   "outputs": [],
   "source": [
    "import pandas as pd\n",
    "import numpy as np\n",
    "from sklearn.linear_model import LinearRegression\n",
    "#from sklearn.cross_validation import train_test_split\n",
    "from sklearn.model_selection import train_test_split\n",
    "from sklearn import metrics\n",
    "import statsmodels.formula.api as smf\n",
    "\n",
    "# visualization\n",
    "import seaborn as sns\n",
    "import matplotlib.pyplot as plt\n",
    "%matplotlib inline"
   ]
  },
  {
   "cell_type": "code",
   "execution_count": 20,
   "id": "dc12b17e",
   "metadata": {},
   "outputs": [],
   "source": [
    "#create model for radio\n",
    "linear_reg = smf.ols(formula='G3 ~ age + famsize + Medu + Fedu + traveltime + studytime+ failures + schoolsup + famsup + paid + activities + internet + romantic + freetime + goout + Dalc + Walc + health + absences', data=data_frame).fit()\n",
    "v = linear_reg.params"
   ]
  },
  {
   "cell_type": "code",
   "execution_count": 28,
   "id": "d3e64bdc",
   "metadata": {},
   "outputs": [
    {
     "data": {
      "text/plain": [
       "<BarContainer object of 19 artists>"
      ]
     },
     "execution_count": 28,
     "metadata": {},
     "output_type": "execute_result"
    },
    {
     "data": {
      "image/png": "[encoded data removed]",
      "text/plain": [
       "<Figure size 432x288 with 1 Axes>"
      ]
     },
     "metadata": {
      "needs_background": "light"
     },
     "output_type": "display_data"
    }
   ],
   "source": [
    "xs = [i for i, _ in enumerate(v) if i != 0]\n",
    "ys = [c for i, c in enumerate(v) if i != 0]\n",
    "plt.bar(xs, ys)"
   ]
  }
 ],
 "metadata": {
  "kernelspec": {
   "display_name": "Python 3",
   "language": "python",
   "name": "python3"
  },
  "language_info": {
   "codemirror_mode": {
    "name": "ipython",
    "version": 3
   },
   "file_extension": ".py",
   "mimetype": "text/x-python",
   "name": "python",
   "nbconvert_exporter": "python",
   "pygments_lexer": "ipython3",
   "version": "3.8.8"
  }
 },
 "nbformat": 4,
 "nbformat_minor": 5
}
