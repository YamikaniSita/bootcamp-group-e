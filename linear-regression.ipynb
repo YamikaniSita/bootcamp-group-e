{
 "cells": [
  {
   "cell_type": "markdown",
   "id": "985f81d3",
   "metadata": {},
   "source": [
    "# Predicting impact of social factors on student performance\n",
    "> We used linear regression to create a multiple linear regression model and then found coefficients of each factor\n",
    "> We can use this to help both parents and teachers to know what impacts their wards perfomance"
   ]
  },
  {
   "cell_type": "code",
   "execution_count": 31,
   "id": "af582c1f",
   "metadata": {},
   "outputs": [],
   "source": [
    "import pandas as pd\n",
    "data_frame = pd.read_csv('final_df.csv')"
   ]
  },
  {
   "cell_type": "code",
   "execution_count": 2,
   "id": "0009dfbe",
   "metadata": {},
   "outputs": [],
   "source": [
    "import pandas as pd\n",
    "import numpy as np\n",
    "from sklearn.linear_model import LinearRegression\n",
    "#from sklearn.cross_validation import train_test_split\n",
    "from sklearn.model_selection import train_test_split\n",
    "from sklearn import metrics\n",
    "import statsmodels.formula.api as smf\n",
    "\n",
    "# visualization\n",
    "import seaborn as sns\n",
    "import matplotlib.pyplot as plt\n",
    "%matplotlib inline"
   ]
  },
  {
   "cell_type": "code",
   "execution_count": 32,
   "id": "dc12b17e",
   "metadata": {},
   "outputs": [
    {
     "data": {
      "text/plain": [
       "Intercept     7.763237\n",
       "age          -0.305744\n",
       "famsize       0.687554\n",
       "Medu          0.456050\n",
       "Fedu          0.094300\n",
       "traveltime   -0.255890\n",
       "studytime     0.393788\n",
       "failures     -1.395900\n",
       "schoolsup    -1.650205\n",
       "famsup       -0.823059\n",
       "paid          0.086870\n",
       "activities   -0.163385\n",
       "internet      0.587208\n",
       "romantic     -0.927696\n",
       "freetime      0.309094\n",
       "goout        -0.530225\n",
       "Dalc         -0.098358\n",
       "Walc          0.087118\n",
       "health       -0.117895\n",
       "absences      0.034501\n",
       "dtype: float64"
      ]
     },
     "execution_count": 32,
     "metadata": {},
     "output_type": "execute_result"
    }
   ],
   "source": [
    "#create model for radio\n",
    "linear_reg = smf.ols(formula='G3 ~ age + famsize + Medu + Fedu + traveltime + studytime+ failures + schoolsup + famsup + paid + activities + internet + romantic + freetime + goout + Dalc + Walc + health + absences', data=data_frame).fit()\n",
    "linear_reg.params"
   ]
  }
 ],
 "metadata": {
  "kernelspec": {
   "display_name": "Python 3",
   "language": "python",
   "name": "python3"
  },
  "language_info": {
   "codemirror_mode": {
    "name": "ipython",
    "version": 3
   },
   "file_extension": ".py",
   "mimetype": "text/x-python",
   "name": "python",
   "nbconvert_exporter": "python",
   "pygments_lexer": "ipython3",
   "version": "3.8.8"
  }
 },
 "nbformat": 4,
 "nbformat_minor": 5
}
