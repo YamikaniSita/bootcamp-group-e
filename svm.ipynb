{
 "cells": [
  {
   "cell_type": "code",
   "execution_count": 54,
   "id": "bdd2a6ff",
   "metadata": {},
   "outputs": [],
   "source": [
    "import pandas as pd\n",
    "import numpy as np\n",
    "from sklearn.svm import SVC\n",
    "\n",
    "data_frame = pd.read_csv('final_df.csv')"
   ]
  },
  {
   "cell_type": "code",
   "execution_count": 55,
   "id": "4e2e3ee1",
   "metadata": {},
   "outputs": [],
   "source": [
    "data_frame['pass_fail'] = ((data_frame['G3'])) >=  10\n",
    "data_frame['pass_fail'] = data_frame['pass_fail'].astype(int)\n",
    "data_frame.drop('G3', axis=1, inplace=True)"
   ]
  },
  {
   "cell_type": "code",
   "execution_count": 56,
   "id": "85c15e34",
   "metadata": {},
   "outputs": [],
   "source": [
    "data_frame.drop('Unnamed: 0', axis=1, inplace=True)"
   ]
  },
  {
   "cell_type": "code",
   "execution_count": 57,
   "id": "084fa0e0",
   "metadata": {},
   "outputs": [],
   "source": [
    "X = data_frame.drop('pass_fail', axis=1)\n",
    "y = data_frame['pass_fail']"
   ]
  },
  {
   "cell_type": "code",
   "execution_count": 58,
   "id": "230a24be",
   "metadata": {},
   "outputs": [],
   "source": [
    "from sklearn.model_selection import train_test_split\n",
    "X_train, X_test, y_train, y_test = train_test_split(X, y, test_size = 0.3)"
   ]
  },
  {
   "cell_type": "code",
   "execution_count": 63,
   "id": "457c0533",
   "metadata": {},
   "outputs": [
    {
     "data": {
      "text/plain": [
       "SVC(kernel='linear', random_state=10)"
      ]
     },
     "execution_count": 63,
     "metadata": {},
     "output_type": "execute_result"
    }
   ],
   "source": [
    "svm_model = SVC(kernel='linear', random_state=10)\n",
    "svm_model.fit(X_train, y_train)\n"
   ]
  },
  {
   "cell_type": "code",
   "execution_count": 64,
   "id": "f935fc18",
   "metadata": {},
   "outputs": [
    {
     "data": {
      "text/plain": [
       "73.94957983193278"
      ]
     },
     "execution_count": 64,
     "metadata": {},
     "output_type": "execute_result"
    }
   ],
   "source": [
    "y_pred = svm_model.predict(X_test)\n",
    "svm_model.score(X_test, y_test)*100"
   ]
  },
  {
   "cell_type": "code",
   "execution_count": 40,
   "id": "b5c380c3",
   "metadata": {},
   "outputs": [
    {
     "data": {
      "image/png": "[encoded data removed]",
      "text/plain": [
       "<Figure size 576x432 with 2 Axes>"
      ]
     },
     "metadata": {
      "needs_background": "light"
     },
     "output_type": "display_data"
    }
   ],
   "source": [
    "y_pred = svm_model.predict(X_test)\n",
    "from matplotlib import pyplot as plt\n",
    "from sklearn.metrics import confusion_matrix\n",
    "import seaborn as sns\n",
    "\n",
    "def plot_confusion_matrix(test_targets, y_class):\n",
    "    '''function to plot confusion matrix'''\n",
    "    cm = confusion_matrix(test_targets, y_class)\n",
    "    target_names=['absent', 'present']\n",
    "\n",
    "    fig, ax = plt.subplots(figsize=(8,6))\n",
    "    sns.heatmap(cm, annot=True, fmt='.2f', xticklabels=target_names, yticklabels=target_names)\n",
    "    plt.ylabel('Actual',fontsize=15)\n",
    "    plt.xlabel('Predicted',fontsize=15)\n",
    "    plt.show(block=False)\n",
    "plot_confusion_matrix(y_test, y_pred)"
   ]
  },
  {
   "cell_type": "code",
   "execution_count": 52,
   "id": "f3071e5a",
   "metadata": {},
   "outputs": [],
   "source": [
    "y_pred = svm_model.predict(X_test)\n"
   ]
  }
 ],
 "metadata": {
  "kernelspec": {
   "display_name": "Python 3",
   "language": "python",
   "name": "python3"
  },
  "language_info": {
   "codemirror_mode": {
    "name": "ipython",
    "version": 3
   },
   "file_extension": ".py",
   "mimetype": "text/x-python",
   "name": "python",
   "nbconvert_exporter": "python",
   "pygments_lexer": "ipython3",
   "version": "3.8.8"
  }
 },
 "nbformat": 4,
 "nbformat_minor": 5
}
